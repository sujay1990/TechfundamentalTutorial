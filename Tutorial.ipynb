{
 "cells": [
  {
   "cell_type": "markdown",
   "metadata": {},
   "source": [
    "# This is a simple neural network model for XOR operation"
   ]
  },
  {
   "cell_type": "markdown",
   "metadata": {},
   "source": [
    "The program creates a neural network that simulates the exclusive OR function with two inputs and one output and 4 hidden layers which will help with the predictions."
   ]
  },
  {
   "cell_type": "markdown",
   "metadata": {},
   "source": [
    "We will use numpy for all the computations"
   ]
  },
  {
   "cell_type": "code",
   "execution_count": 75,
   "metadata": {
    "collapsed": true
   },
   "outputs": [],
   "source": [
    "import numpy as np"
   ]
  },
  {
   "cell_type": "markdown",
   "metadata": {},
   "source": [
    "The code below is a function definition of the sigmoid function,an activation function, which is the type of non-linearity chosen for this neural net.  A sigmoid function maps any value to a value between 0 and 1. We use it to convert numbers to probabilities. \n",
    "The code also performs derivative upon the input if deriv=True. This will be used later in the error back propogation step."
   ]
  },
  {
   "cell_type": "code",
   "execution_count": 76,
   "metadata": {
    "collapsed": false
   },
   "outputs": [],
   "source": [
    "def nonlin(x, deriv=False): \n",
    "    if(deriv==True):\n",
    "        return (x*(1-x))        # returns derivative of input x\n",
    "    \n",
    "    return 1/(1+np.exp(-x))     #returns exponential value of input x "
   ]
  },
  {
   "cell_type": "markdown",
   "metadata": {},
   "source": [
    "The code below is to create an input matrix. it is a 2x4 matrix"
   ]
  },
  {
   "cell_type": "code",
   "execution_count": 77,
   "metadata": {
    "collapsed": true
   },
   "outputs": [],
   "source": [
    "X = np.array([[0,0],  \n",
    "            [0,1],\n",
    "            [1,0],\n",
    "            [1,1]])"
   ]
  },
  {
   "cell_type": "markdown",
   "metadata": {},
   "source": [
    "the code below is the output of the XOR function for the input matrix above"
   ]
  },
  {
   "cell_type": "code",
   "execution_count": 78,
   "metadata": {
    "collapsed": true
   },
   "outputs": [],
   "source": [
    "y = np.array([[0],\n",
    "             [1],\n",
    "             [1],\n",
    "             [0]])"
   ]
  },
  {
   "cell_type": "markdown",
   "metadata": {},
   "source": [
    "The numbers will be randomly distributed in exactly the same way everytime we train."
   ]
  },
  {
   "cell_type": "code",
   "execution_count": 79,
   "metadata": {
    "collapsed": true
   },
   "outputs": [],
   "source": [
    "np.random.seed(1)"
   ]
  },
  {
   "cell_type": "markdown",
   "metadata": {},
   "source": [
    "# creating random weights for synapses"
   ]
  },
  {
   "cell_type": "markdown",
   "metadata": {},
   "source": [
    "The code below generates random weight matrix for this neural network. The weights matrix are called synapses.There is 3 layers (input, hidden layer and output). So we need two matrixes(synapses), one before the hidden layer and one after which is connected to the output. The first synapse will be multiplied with the input matrix and then we will run it through the sigmoid function."
   ]
  },
  {
   "cell_type": "markdown",
   "metadata": {},
   "source": [
    "This matrix is randomly generated in python and is multiplied with the input . Its dimension is (2,4) because we have 2 inputs and 4 hidden layers. l0 is the input and l2 will be the output. l1 will hold the multiplication value of l0 and syn1(input weights) which will then be passed through the sigmoid function."
   ]
  },
  {
   "cell_type": "code",
   "execution_count": 80,
   "metadata": {
    "collapsed": true
   },
   "outputs": [],
   "source": [
    "syn1 = np.random.random((2,4))  # 2x4 matrix of weights ((2 inputs) x 4 nodes in the hidden layer\n",
    "syn2 = np.random.random((4,1))  # 4x1 matrix of weights. (4 nodes x 1 output)"
   ]
  },
  {
   "cell_type": "markdown",
   "metadata": {},
   "source": [
    "syn2 will be the synapse after the hidden layer. It is of the size 4x1 because we have 4 hidden layers and 1 output. After the sigmoid function is used on l1, l1 will be multiplied with syn1 to generate an output matrix of size 4x1."
   ]
  },
  {
   "cell_type": "markdown",
   "metadata": {},
   "source": [
    "The Main predicition begins below. We will have 60000 iterations, although the number can be increased to get better accuracy, we will keep it at 60000 to get faster results."
   ]
  },
  {
   "cell_type": "markdown",
   "metadata": {},
   "source": [
    "# Forward Network"
   ]
  },
  {
   "cell_type": "markdown",
   "metadata": {},
   "source": [
    "As explained above l0 contains the input.\n"
   ]
  },
  {
   "cell_type": "markdown",
   "metadata": {},
   "source": [
    "l1 contains the multiplication of syn1 with the input which is then passed through the activation function (sigmoid fucntion). There, the activation function is applied to each element of the matrix resulted from l0*syn1"
   ]
  },
  {
   "cell_type": "markdown",
   "metadata": {},
   "source": [
    "l2 will have product of l1 and syn2 (weights after the hidden layer) which will be again passed through the activation function."
   ]
  },
  {
   "cell_type": "markdown",
   "metadata": {},
   "source": [
    "Our model should look something like this"
   ]
  },
  {
   "cell_type": "code",
   "execution_count": 81,
   "metadata": {
    "collapsed": false
   },
   "outputs": [
    {
     "data": {
      "image/png": "[encoded data removed]",
      "text/plain": [
       "<IPython.core.display.Image object>"
      ]
     },
     "execution_count": 81,
     "metadata": {},
     "output_type": "execute_result"
    }
   ],
   "source": [
    "from IPython.display import Image\n",
    "Image(\"F:/Tech fundamentals/Project/Submittals/NN.png\")"
   ]
  },
  {
   "cell_type": "markdown",
   "metadata": {},
   "source": [
    "# Back Propogation"
   ]
  },
  {
   "cell_type": "markdown",
   "metadata": {},
   "source": [
    "we first calculate the cost(error). Cost is the difference in the predicted value and the actual output value. Our job here is to minimize the cost function. We can only do that by changing the value of the weights in the synapses."
   ]
  },
  {
   "cell_type": "markdown",
   "metadata": {},
   "source": [
    "We need to know how much do the weights in the synapses affect the cost and in which direction. Do they increase or decrease the error. For that we will need the derivative function. If the derivative of the output is positive, then the cost is going up(positive slope) and if the derivative is negative, then the cost is going down(negative slope). This process is called Gradient Descent"
   ]
  },
  {
   "cell_type": "markdown",
   "metadata": {},
   "source": [
    "We need to find out the change in error to the change in weights. (this is the chain rule of derivation where you take the outer derivative and multiply it with the inner derivative). because of this, we will take the derivative of the output and multiply this with the error to form a new matrix called l2_delta. This is where we are training the model to make better predictions.\n",
    "We will update syn2 with l2_delta"
   ]
  },
  {
   "cell_type": "markdown",
   "metadata": {},
   "source": [
    "we multiply the back propogating error with the Transpose of the activity in each synapse (synapses 2). We will treat this as l1_error. This is to update our synapses 1. We take the derivate of the input of the hidden layer(l1) and multiply it with l1_error to get l1_delta."
   ]
  },
  {
   "cell_type": "markdown",
   "metadata": {},
   "source": [
    "Eventually, we will update both the synapses , syn1 with product of l0 transpose and l1_delta and syn2 with product of l1 transpose and l2_delta. This will be done for 60000 iterations"
   ]
  },
  {
   "cell_type": "code",
   "execution_count": 82,
   "metadata": {
    "collapsed": false
   },
   "outputs": [
    {
     "name": "stdout",
     "output_type": "stream",
     "text": [
      "Error: 0.499319690739\n",
      "Error: 0.0165638769582\n",
      "Error: 0.0104669481327\n",
      "Error: 0.008303911676\n",
      "Error: 0.00711919097558\n",
      "Error: 0.00634201641317\n",
      "Output after training\n",
      "[[ 0.00554722]\n",
      " [ 0.99404972]\n",
      " [ 0.99420492]\n",
      " [ 0.0058294 ]]\n"
     ]
    }
   ],
   "source": [
    "for j in range(60000):  \n",
    "    \n",
    "    # Calculate forward through the network.\n",
    "    l0 = X\n",
    "    l1 = nonlin(np.dot(l0, syn1))\n",
    "    l2 = nonlin(np.dot(l1, syn2))\n",
    "    \n",
    "    # Back propagation of errors using the chain rule. \n",
    "    l2_error = y - l2\n",
    "    if(j % 10000) == 0:   # Only print the error every 10000 steps, to save time and limit the amount of output. \n",
    "        print (\"Error: \" + str(np.mean(np.abs(l2_error))))\n",
    "        \n",
    "    l2_delta = l2_error*nonlin(l2, deriv=True)    # back propogating error\n",
    "    \n",
    "    l1_error = l2_delta.dot(syn2.T)\n",
    "    \n",
    "    l1_delta = l1_error * nonlin(l1,deriv=True)\n",
    "    \n",
    "    #update weights\n",
    "    syn2 += l1.T.dot(l2_delta)\n",
    "    syn1 += l0.T.dot(l1_delta)\n",
    "    \n",
    "print (\"Output after training\")\n",
    "print (l2)\n",
    "    "
   ]
  },
  {
   "cell_type": "markdown",
   "metadata": {},
   "source": [
    "# In the output, We can clearly see that at the beginning the error is a lot, but once it starts to train the model over further iterations, the error reduces. The final output after training is very close to the original output."
   ]
  },
  {
   "cell_type": "markdown",
   "metadata": {},
   "source": [
    "sources : Sirajology simple neural network , lumiverse.io/video , "
   ]
  }
 ],
 "metadata": {
  "kernelspec": {
   "display_name": "Python [default]",
   "language": "python",
   "name": "python3"
  },
  "language_info": {
   "codemirror_mode": {
    "name": "ipython",
    "version": 3
   },
   "file_extension": ".py",
   "mimetype": "text/x-python",
   "name": "python",
   "nbconvert_exporter": "python",
   "pygments_lexer": "ipython3",
   "version": "3.5.2"
  }
 },
 "nbformat": 4,
 "nbformat_minor": 1
}
